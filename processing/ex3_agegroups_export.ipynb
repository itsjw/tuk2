{
 "cells": [
  {
   "cell_type": "code",
   "execution_count": 1,
   "metadata": {},
   "outputs": [],
   "source": [
    "%reload_ext autoreload\n",
    "%autoreload 2\n",
    "import warnings\n",
    "warnings.filterwarnings('ignore')\n",
    "\n",
    "import pandas as pd\n",
    "import numpy as np\n",
    "import matplotlib.pyplot as plt\n",
    "\n",
    "from sklearn.linear_model import Ridge\n",
    "from sklearn.preprocessing import PolynomialFeatures\n",
    "from sklearn.pipeline import make_pipeline\n",
    "from sklearn.metrics import mean_squared_error\n",
    "\n",
    "from utils import Connection"
   ]
  },
  {
   "cell_type": "code",
   "execution_count": 2,
   "metadata": {},
   "outputs": [],
   "source": [
    "with Connection() as connection:\n",
    "    age_groups_df = pd.read_sql('SELECT * FROM \"TUKGRP2\".\"EX3_AGEGROUPS\"', connection)\n",
    "\n",
    "with Connection() as connection:\n",
    "    avg_visits_per_age_df = pd.read_sql('SELECT * FROM \"TUKGRP2\".\"EX3_AVG_VISITS_PER_AGE\"', connection)"
   ]
  },
  {
   "cell_type": "code",
   "execution_count": 3,
   "metadata": {},
   "outputs": [
    {
     "name": "stdout",
     "output_type": "stream",
     "text": [
      "d1: MSE: 1.638501838827966\n",
      "d2: MSE: 1.6351121430512523\n",
      "d3: MSE: 1.6364783853139684\n",
      "d4: MSE: 1.6067706377581281\n",
      "d5: MSE: 1.5786173292926735\n",
      "d6: MSE: 1.538882557753805\n",
      "d7: MSE: 1.4316931856274735\n",
      "d8: MSE: 1.4450661389949404\n",
      "d9: MSE: 1.7487473577482835\n",
      "d10: MSE: 1.786723863272556\n"
     ]
    }
   ],
   "source": [
    "x = (age_groups_df['AGEGROUP'] * 10) - 5\n",
    "y = age_groups_df['AVGVISITS']\n",
    "X = x[:, np.newaxis]\n",
    "\n",
    "x_plot = np.linspace(10, 95)\n",
    "X_plot = x_plot[:, np.newaxis]\n",
    "\n",
    "ages = avg_visits_per_age_df['AGE']\n",
    "avg_visits_actual = avg_visits_per_age_df['AVGVISITS']\n",
    "\n",
    "results = []\n",
    "\n",
    "for degree in range(1, 11):\n",
    "    interpolation_model = make_pipeline(PolynomialFeatures(degree), Ridge())\n",
    "    interpolation_model.fit(X, y)\n",
    "    y_plot = interpolation_model.predict(X_plot)\n",
    "    avg_visits_prediction = interpolation_model.predict(ages[:, np.newaxis])\n",
    "    mse = mean_squared_error(avg_visits_actual, avg_visits_prediction)\n",
    "    print('d{}: MSE: {}'.format(degree, mse))\n",
    "    results.append({ 'MSE': mse, 'DEGREE': degree,\n",
    "                    'INTERPOLATION': ','.join(map(str, y_plot)),\n",
    "                    'PREDICTEDVISITS': ','.join(map(str, avg_visits_prediction))})"
   ]
  },
  {
   "cell_type": "code",
   "execution_count": 4,
   "metadata": {},
   "outputs": [],
   "source": [
    "def export_results(results):\n",
    "    query_template = \"\"\"\n",
    "    INSERT INTO \"EX3_1_EXPORTS\" (\"DEGREE\", \"MSE\", \"INTERPOLATION\", \"PREDICTEDVISITS\")\n",
    "    VALUES ({}, {}, '{}', '{}')\"\"\"\n",
    "    with Connection() as connection:\n",
    "        cursor = connection.cursor().execute('TRUNCATE TABLE \"EX3_1_EXPORTS\"')\n",
    "        for result in results:\n",
    "            query = query_template.format(result['DEGREE'], result['MSE'],\n",
    "                                          result['INTERPOLATION'], result['PREDICTEDVISITS'])\n",
    "            cursor = connection.cursor().execute(query)\n",
    "        connection.commit()\n",
    "    \n",
    "export_results(results)"
   ]
  }
 ],
 "metadata": {
  "kernelspec": {
   "display_name": "Python 3",
   "language": "python",
   "name": "python3"
  },
  "language_info": {
   "codemirror_mode": {
    "name": "ipython",
    "version": 3
   },
   "file_extension": ".py",
   "mimetype": "text/x-python",
   "name": "python",
   "nbconvert_exporter": "python",
   "pygments_lexer": "ipython3",
   "version": "3.6.3"
  }
 },
 "nbformat": 4,
 "nbformat_minor": 2
}
