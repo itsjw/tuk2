{
 "cells": [
  {
   "cell_type": "code",
   "execution_count": 2,
   "metadata": {},
   "outputs": [],
   "source": [
    "%reload_ext autoreload\n",
    "%autoreload 2\n",
    "import pandas as pd\n",
    "import numpy as np\n",
    "import matplotlib.pyplot as plt\n",
    "\n",
    "from utils import Connection"
   ]
  },
  {
   "cell_type": "code",
   "execution_count": 3,
   "metadata": {},
   "outputs": [
    {
     "data": {
      "text/html": [
       "<div>\n",
       "<table border=\"1\" class=\"dataframe\">\n",
       "  <thead>\n",
       "    <tr style=\"text-align: right;\">\n",
       "      <th></th>\n",
       "      <th>AGEGROUP</th>\n",
       "      <th>AVGVISITS</th>\n",
       "      <th>MINVISITS</th>\n",
       "      <th>MAXVISITS</th>\n",
       "      <th>MEDIANVISITS</th>\n",
       "    </tr>\n",
       "  </thead>\n",
       "  <tbody>\n",
       "    <tr>\n",
       "      <th>0</th>\n",
       "      <td>2</td>\n",
       "      <td>10.163461</td>\n",
       "      <td>2</td>\n",
       "      <td>92</td>\n",
       "      <td>7</td>\n",
       "    </tr>\n",
       "    <tr>\n",
       "      <th>1</th>\n",
       "      <td>3</td>\n",
       "      <td>11.148331</td>\n",
       "      <td>1</td>\n",
       "      <td>104</td>\n",
       "      <td>8</td>\n",
       "    </tr>\n",
       "    <tr>\n",
       "      <th>2</th>\n",
       "      <td>4</td>\n",
       "      <td>11.146517</td>\n",
       "      <td>1</td>\n",
       "      <td>218</td>\n",
       "      <td>7</td>\n",
       "    </tr>\n",
       "    <tr>\n",
       "      <th>3</th>\n",
       "      <td>5</td>\n",
       "      <td>11.945614</td>\n",
       "      <td>1</td>\n",
       "      <td>252</td>\n",
       "      <td>8</td>\n",
       "    </tr>\n",
       "    <tr>\n",
       "      <th>4</th>\n",
       "      <td>6</td>\n",
       "      <td>13.010355</td>\n",
       "      <td>1</td>\n",
       "      <td>260</td>\n",
       "      <td>9</td>\n",
       "    </tr>\n",
       "    <tr>\n",
       "      <th>5</th>\n",
       "      <td>7</td>\n",
       "      <td>13.399787</td>\n",
       "      <td>3</td>\n",
       "      <td>275</td>\n",
       "      <td>9</td>\n",
       "    </tr>\n",
       "    <tr>\n",
       "      <th>6</th>\n",
       "      <td>8</td>\n",
       "      <td>13.351435</td>\n",
       "      <td>1</td>\n",
       "      <td>130</td>\n",
       "      <td>10</td>\n",
       "    </tr>\n",
       "    <tr>\n",
       "      <th>7</th>\n",
       "      <td>9</td>\n",
       "      <td>15.833333</td>\n",
       "      <td>1</td>\n",
       "      <td>136</td>\n",
       "      <td>12</td>\n",
       "    </tr>\n",
       "    <tr>\n",
       "      <th>8</th>\n",
       "      <td>10</td>\n",
       "      <td>14.871794</td>\n",
       "      <td>3</td>\n",
       "      <td>41</td>\n",
       "      <td>11</td>\n",
       "    </tr>\n",
       "  </tbody>\n",
       "</table>\n",
       "</div>"
      ],
      "text/plain": [
       "   AGEGROUP  AVGVISITS  MINVISITS  MAXVISITS  MEDIANVISITS\n",
       "0         2  10.163461          2         92             7\n",
       "1         3  11.148331          1        104             8\n",
       "2         4  11.146517          1        218             7\n",
       "3         5  11.945614          1        252             8\n",
       "4         6  13.010355          1        260             9\n",
       "5         7  13.399787          3        275             9\n",
       "6         8  13.351435          1        130            10\n",
       "7         9  15.833333          1        136            12\n",
       "8        10  14.871794          3         41            11"
      ]
     },
     "execution_count": 3,
     "metadata": {},
     "output_type": "execute_result"
    }
   ],
   "source": [
    "with Connection() as connection:\n",
    "    age_groups_df = pd.read_sql('SELECT * FROM \"TUKGRP2\".\"EX3_AGEGROUPS\"', connection)\n",
    "age_groups_df"
   ]
  },
  {
   "cell_type": "code",
   "execution_count": 32,
   "metadata": {},
   "outputs": [
    {
     "name": "stderr",
     "output_type": "stream",
     "text": [
      "/usr/lib/python3.6/site-packages/scipy/linalg/basic.py:40: RuntimeWarning: scipy.linalg.solve\n",
      "Ill-conditioned matrix detected. Result is not guaranteed to be accurate.\n",
      "Reciprocal condition number/precision: 3.003434131263836e-20 / 1.1102230246251565e-16\n",
      "  RuntimeWarning)\n"
     ]
    },
    {
     "data": {
      "image/png": "[encoded data removed]",
      "text/plain": [
       "<matplotlib.figure.Figure at 0x7f47338ffdd8>"
      ]
     },
     "metadata": {},
     "output_type": "display_data"
    }
   ],
   "source": [
    "from sklearn.linear_model import Ridge\n",
    "from sklearn.preprocessing import PolynomialFeatures\n",
    "from sklearn.pipeline import make_pipeline\n",
    "\n",
    "degree = 5\n",
    "interpolation_model = make_pipeline(PolynomialFeatures(degree), Ridge())\n",
    "\n",
    "x = (age_groups_df['AGEGROUP'] * 10) - 10\n",
    "y = age_groups_df['AVGVISITS']\n",
    "X = x[:, np.newaxis]\n",
    "\n",
    "x_plot = np.linspace(10, 90)\n",
    "X_plot = x_plot[:, np.newaxis]\n",
    "\n",
    "interpolation_model.fit(X, y)\n",
    "y_plot = interpolation_model.predict(X_plot)\n",
    "\n",
    "plt.scatter(x, y, color='red')\n",
    "plt.plot(x_plot, y_plot, color='blue')\n",
    "plt.show()"
   ]
  },
  {
   "cell_type": "code",
   "execution_count": 33,
   "metadata": {},
   "outputs": [
    {
     "data": {
      "image/png": "[encoded data removed]",
      "text/plain": [
       "<matplotlib.figure.Figure at 0x7f47336abbe0>"
      ]
     },
     "metadata": {},
     "output_type": "display_data"
    }
   ],
   "source": [
    "with Connection() as connection:\n",
    "    avg_visits_per_age_df = pd.read_sql('SELECT * FROM \"TUKGRP2\".\"EX3_AVG_VISITS_PER_AGE\"', connection)\n",
    "ages = avg_visits_per_age_df['AGE']\n",
    "avg_visits_actual = avg_visits_per_age_df['AVGVISITS']\n",
    "avg_visits_prediction = interpolation_model.predict(ages[:, np.newaxis])\n",
    "\n",
    "plt.scatter(ages, avg_visits_prediction, color='blue')\n",
    "plt.scatter(ages, avg_visits_actual, color='red')\n",
    "plt.show()"
   ]
  },
  {
   "cell_type": "code",
   "execution_count": 34,
   "metadata": {},
   "outputs": [
    {
     "name": "stdout",
     "output_type": "stream",
     "text": [
      "MSE: 1.7258086560711086\n"
     ]
    }
   ],
   "source": [
    "from sklearn.metrics import mean_squared_error\n",
    "\n",
    "print('MSE: {}'.format(mean_squared_error(avg_visits_actual, avg_visits_prediction)))"
   ]
  }
 ],
 "metadata": {
  "kernelspec": {
   "display_name": "Python 3",
   "language": "python",
   "name": "python3"
  },
  "language_info": {
   "codemirror_mode": {
    "name": "ipython",
    "version": 3
   },
   "file_extension": ".py",
   "mimetype": "text/x-python",
   "name": "python",
   "nbconvert_exporter": "python",
   "pygments_lexer": "ipython3",
   "version": "3.6.3"
  }
 },
 "nbformat": 4,
 "nbformat_minor": 2
}
